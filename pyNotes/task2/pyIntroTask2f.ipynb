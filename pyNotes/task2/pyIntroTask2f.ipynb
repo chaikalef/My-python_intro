{
 "cells": [
  {
   "cell_type": "code",
   "execution_count": 12,
   "metadata": {},
   "outputs": [
    {
     "name": "stdout",
     "output_type": "stream",
     "text": [
      "10\n",
      "2\n",
      "8\n",
      "YES\n"
     ]
    }
   ],
   "source": [
    "a, b, c = int(input()), int(input()), int(input())\n",
    "a, b = min(a, b), max(a, b)\n",
    "flag = False\n",
    "\n",
    "def searchAnswerIf_c_IsBetween_a_And_b(a, b ,c):\n",
    "    while (a <= b and c >= a):\n",
    "        c -= a\n",
    "        b -= 1\n",
    "    else:\n",
    "        if (c < a):\n",
    "            pass\n",
    "        elif ((c % a == 0 and c // a in range(1, b + 1)) or\n",
    "              (c % b == 0 and c // b in range(1, a + 1))):\n",
    "                flag = True\n",
    "        else:\n",
    "            a, b = b, a\n",
    "            while (a <= b and c >= a):\n",
    "                c -= a\n",
    "                b -= 1\n",
    "            else:\n",
    "                if (c < a):\n",
    "                    pass\n",
    "                elif ((c % a == 0 and c // a in range(1, b + 1)) or \n",
    "                      (c % b == 0 and c // b in range(1, a + 1))):\n",
    "                        flag = True\n",
    "                else:\n",
    "                    pass\n",
    "\n",
    "if (c < a):\n",
    "    pass\n",
    "\n",
    "elif ((c % a == 0 and c // a in range(1, b + 1)) or \n",
    "      (c % b == 0 and c // b in range(1, a + 1))):\n",
    "        flag = True\n",
    "        \n",
    "elif (c > b):\n",
    "    while (c > b and a > 0):\n",
    "        c -= b\n",
    "        a -= 1\n",
    "        if ((c % a == 0 and c // a in range(1, b + 1)) or \n",
    "            (c % b == 0 and c // b in range(1, a + 1))):\n",
    "                flag = True\n",
    "                break\n",
    "    else:\n",
    "        if (a == 0):\n",
    "            pass\n",
    "        else:\n",
    "            searchAnswerIf_c_IsBetween_a_And_b(a, b ,c)\n",
    "\n",
    "else:\n",
    "    searchAnswerIf_c_IsBetween_a_And_b(a, b ,c)\n",
    "    \n",
    "if (flag):\n",
    "    print('YES')\n",
    "else:\n",
    "    print('NO')"
   ]
  }
 ],
 "metadata": {
  "kernelspec": {
   "display_name": "Python 3",
   "language": "python",
   "name": "python3"
  },
  "language_info": {
   "codemirror_mode": {
    "name": "ipython",
    "version": 3
   },
   "file_extension": ".py",
   "mimetype": "text/x-python",
   "name": "python",
   "nbconvert_exporter": "python",
   "pygments_lexer": "ipython3",
   "version": "3.6.3"
  }
 },
 "nbformat": 4,
 "nbformat_minor": 2
}
