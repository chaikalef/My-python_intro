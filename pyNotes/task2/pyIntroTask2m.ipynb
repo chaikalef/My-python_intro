{
 "cells": [
  {
   "cell_type": "code",
   "execution_count": 21,
   "metadata": {},
   "outputs": [
    {
     "name": "stdout",
     "output_type": "stream",
     "text": [
      "1\n",
      "0 0 1 "
     ]
    }
   ],
   "source": [
    "n = int(input())\n",
    "\n",
    "# Виды абонементов\n",
    "typesOfTickets = (60, 10, 1)\n",
    "\n",
    "# Словарь вида 'колво поездок': стоимость абонемента\n",
    "tickets = {'typesOfTickets[0]': 440, \n",
    "           'typesOfTickets[1]': 125, \n",
    "           'typesOfTickets[2]': 15}\n",
    "\n",
    "# Минимальное количество абонементов, с которого\n",
    "# выгоднее покупать следующий по стоимости абонемент\n",
    "minCount = (int((typesOfTickets[1] * \n",
    "                 tickets['typesOfTickets[0]'] / \n",
    "                 tickets['typesOfTickets[1]']) // 1 + 1), \n",
    "            tickets['typesOfTickets[1]'] // \n",
    "                 tickets['typesOfTickets[2]'] + 1, \n",
    "            1)\n",
    "\n",
    "# Сколько надо купить\n",
    "count = [0 for x in range(len(typesOfTickets))]\n",
    "\n",
    "while n > 0:    \n",
    "    if (n >= minCount[0]):\n",
    "        count[0] += 1\n",
    "        n -= typesOfTickets[0]\n",
    "        \n",
    "    elif (n >= minCount[1]):\n",
    "        count[1] += 1\n",
    "        n -= typesOfTickets[1]\n",
    "        \n",
    "    else:\n",
    "        count[2] += 1\n",
    "        n -= typesOfTickets[2]\n",
    "        \n",
    "# Вывод на экран\n",
    "for x in range(len(count)):\n",
    "    print(count[x], end = ' ')"
   ]
  }
 ],
 "metadata": {
  "kernelspec": {
   "display_name": "Python 3",
   "language": "python",
   "name": "python3"
  },
  "language_info": {
   "codemirror_mode": {
    "name": "ipython",
    "version": 3
   },
   "file_extension": ".py",
   "mimetype": "text/x-python",
   "name": "python",
   "nbconvert_exporter": "python",
   "pygments_lexer": "ipython3",
   "version": "3.6.3"
  }
 },
 "nbformat": 4,
 "nbformat_minor": 2
}
