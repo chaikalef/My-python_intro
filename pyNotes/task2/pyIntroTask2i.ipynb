{
 "cells": [
  {
   "cell_type": "code",
   "execution_count": 23,
   "metadata": {},
   "outputs": [
    {
     "name": "stdout",
     "output_type": "stream",
     "text": [
      "1\n",
      "1\n",
      "1\n",
      "1\n"
     ]
    }
   ],
   "source": [
    "# Python 2 and 3 compatibility\n",
    "from __future__ import (absolute_import, division,\n",
    "                        print_function, unicode_literals)\n",
    "from builtins import *\n",
    "\n",
    "__author__ = \"Sergey Chaika\"\n",
    "__email__ = \"chaikalef@gmail.com\"\n",
    "__status__ = \"Prototype\"\n",
    "\n",
    "# Python general libraries\n",
    "# import numpy as np\n",
    "# import matplotlib.pyplot as plt\n",
    "# import pandas as pd\n",
    "# New library from the book Myuller A. and Gido S.\n",
    "# Introduction to machine learning\n",
    "# import mglearn\n",
    "# Library for work with folders\n",
    "# import os\n",
    "# from math import gcd\n",
    "\n",
    "# In Jupiter Notebook we can use function\n",
    "# dislpay() without this line\n",
    "# In another IDE we must import this function\n",
    "# from IPython.display import display\n",
    "\n",
    "# Using great features of Jupiter Notebook\n",
    "# for drawing graphics\n",
    "# In another IDE we must using function plt.show()\n",
    "# %matplotlib notebook\n",
    "# or not so interactive environment\n",
    "# %matplotlib inline\n",
    "\n",
    "# To solve the problems of correctly displaying Russian \n",
    "# inscriptions in graphs matplotlib\n",
    "# plt.rc(\"font\", family = \"Verdana\")\n",
    "\n",
    "# Считываем с клавиатуры коэффициенты\n",
    "a, b, c, d = int(input()), int(input()), int(input()), int(input())\n",
    "\n",
    "for i in range(1001):\n",
    "    if (a * i ** 3 + b * i ** 2 + c * i + d == 0):\n",
    "        print(i)"
   ]
  }
 ],
 "metadata": {
  "kernelspec": {
   "display_name": "Python 3",
   "language": "python",
   "name": "python3"
  },
  "language_info": {
   "codemirror_mode": {
    "name": "ipython",
    "version": 3
   },
   "file_extension": ".py",
   "mimetype": "text/x-python",
   "name": "python",
   "nbconvert_exporter": "python",
   "pygments_lexer": "ipython3",
   "version": "3.6.3"
  }
 },
 "nbformat": 4,
 "nbformat_minor": 2
}
