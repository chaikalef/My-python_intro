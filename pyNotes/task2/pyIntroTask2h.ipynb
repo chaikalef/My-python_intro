{
 "cells": [
  {
   "cell_type": "code",
   "execution_count": 24,
   "metadata": {},
   "outputs": [
    {
     "name": "stdout",
     "output_type": "stream",
     "text": [
      "5\n",
      "5 korov\n"
     ]
    }
   ],
   "source": [
    "a = int(input())\n",
    "arr = \"korov\", \"korova\", \"korovy\"\n",
    "\n",
    "if (a % 10 == 1 and a != 11):\n",
    "    print(str(a) + ' ' + arr[1])\n",
    "elif ((a % 10 == 2 or a % 10 == 3 or a % 10 == 4) and \n",
    "      a != 12 and a != 13 and a != 14):\n",
    "    print(str(a) + ' ' + arr[2])\n",
    "else:\n",
    "    print(str(a) + ' ' + arr[0])"
   ]
  }
 ],
 "metadata": {
  "kernelspec": {
   "display_name": "Python 3",
   "language": "python",
   "name": "python3"
  },
  "language_info": {
   "codemirror_mode": {
    "name": "ipython",
    "version": 3
   },
   "file_extension": ".py",
   "mimetype": "text/x-python",
   "name": "python",
   "nbconvert_exporter": "python",
   "pygments_lexer": "ipython3",
   "version": "3.6.3"
  }
 },
 "nbformat": 4,
 "nbformat_minor": 2
}
