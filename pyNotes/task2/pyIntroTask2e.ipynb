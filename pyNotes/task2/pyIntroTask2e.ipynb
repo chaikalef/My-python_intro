{
 "cells": [
  {
   "cell_type": "code",
   "execution_count": 19,
   "metadata": {},
   "outputs": [
    {
     "name": "stdout",
     "output_type": "stream",
     "text": [
      "5\n",
      "   _~_       _~_       _~_       _~_       _~_    \n",
      "  (o o)     (o o)     (o o)     (o o)     (o o)   \n",
      " /  V  \\   /  V  \\   /  V  \\   /  V  \\   /  V  \\  \n",
      "/(  _  )\\ /(  _  )\\ /(  _  )\\ /(  _  )\\ /(  _  )\\ \n",
      "  ^^ ^^     ^^ ^^     ^^ ^^     ^^ ^^     ^^ ^^   "
     ]
    }
   ],
   "source": [
    "a = int(input())\n",
    "\n",
    "for i in range(a):\n",
    "    print('   _~_   ', end = ' ')\n",
    "\n",
    "print()\n",
    "    \n",
    "for i in range(a):\n",
    "    print('  (o o)  ', end = ' ')\n",
    "    \n",
    "print()\n",
    "    \n",
    "for i in range(a):\n",
    "    print(' /  V  \\\\ ', end = ' ')\n",
    "    \n",
    "print()\n",
    "\n",
    "for i in range(a):\n",
    "    print('/(  _  )\\\\', end = ' ')\n",
    "    \n",
    "print()\n",
    "    \n",
    "for i in range(a):\n",
    "    print('  ^^ ^^  ', end = ' ')"
   ]
  }
 ],
 "metadata": {
  "kernelspec": {
   "display_name": "Python 3",
   "language": "python",
   "name": "python3"
  },
  "language_info": {
   "codemirror_mode": {
    "name": "ipython",
    "version": 3
   },
   "file_extension": ".py",
   "mimetype": "text/x-python",
   "name": "python",
   "nbconvert_exporter": "python",
   "pygments_lexer": "ipython3",
   "version": "3.6.3"
  }
 },
 "nbformat": 4,
 "nbformat_minor": 2
}
