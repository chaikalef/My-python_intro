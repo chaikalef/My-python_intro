{
 "cells": [
  {
   "cell_type": "code",
   "execution_count": 9,
   "metadata": {},
   "outputs": [
    {
     "name": "stdout",
     "output_type": "stream",
     "text": [
      "5\n",
      "YES\n"
     ]
    }
   ],
   "source": [
    "# Python 2 and 3 compatibility\n",
    "from __future__ import (absolute_import, division,\n",
    "                        print_function, unicode_literals)\n",
    "from builtins import *\n",
    "\n",
    "__author__ = \"Sergey Chaika\"\n",
    "__email__ = \"chaikalef@gmail.com\"\n",
    "__status__ = \"Prototype\"\n",
    "\n",
    "def IsPrime(x):\n",
    "    if (x in (1,2,3,5,7)):\n",
    "        return True\n",
    "    elif (x in (4,6,8)):\n",
    "        return False\n",
    "    else:\n",
    "        for i in range(2, x // 3):\n",
    "            if x % i == 0:\n",
    "                return False\n",
    "        return True\n",
    "    \n",
    "b = int(input())\n",
    "print('YES' if IsPrime(b) else 'NO')"
   ]
  }
 ],
 "metadata": {
  "kernelspec": {
   "display_name": "Python 3",
   "language": "python",
   "name": "python3"
  },
  "language_info": {
   "codemirror_mode": {
    "name": "ipython",
    "version": 3
   },
   "file_extension": ".py",
   "mimetype": "text/x-python",
   "name": "python",
   "nbconvert_exporter": "python",
   "pygments_lexer": "ipython3",
   "version": "3.6.3"
  }
 },
 "nbformat": 4,
 "nbformat_minor": 2
}
