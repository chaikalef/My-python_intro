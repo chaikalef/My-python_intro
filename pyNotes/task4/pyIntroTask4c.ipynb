{
 "cells": [
  {
   "cell_type": "code",
   "execution_count": 7,
   "metadata": {},
   "outputs": [
    {
     "name": "stdout",
     "output_type": "stream",
     "text": [
      "5\n",
      "2\n",
      "25.0\n"
     ]
    }
   ],
   "source": [
    "# Python 2 and 3 compatibility\n",
    "from __future__ import (absolute_import, division,\n",
    "                        print_function, unicode_literals)\n",
    "from builtins import *\n",
    "\n",
    "__author__ = \"Sergey Chaika\"\n",
    "__email__ = \"chaikalef@gmail.com\"\n",
    "__status__ = \"Prototype\"\n",
    "\n",
    "def power(a, n):\n",
    "    if (n>1):\n",
    "        return a * power(a, n-1)\n",
    "    else:\n",
    "        return a\n",
    "    \n",
    "b,c = float(input()),int(input())\n",
    "print(power(b,c))"
   ]
  }
 ],
 "metadata": {
  "kernelspec": {
   "display_name": "Python 3",
   "language": "python",
   "name": "python3"
  },
  "language_info": {
   "codemirror_mode": {
    "name": "ipython",
    "version": 3
   },
   "file_extension": ".py",
   "mimetype": "text/x-python",
   "name": "python",
   "nbconvert_exporter": "python",
   "pygments_lexer": "ipython3",
   "version": "3.6.3"
  }
 },
 "nbformat": 4,
 "nbformat_minor": 2
}
