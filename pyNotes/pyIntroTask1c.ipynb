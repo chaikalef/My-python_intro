{
 "cells": [
  {
   "cell_type": "code",
   "execution_count": 6,
   "metadata": {},
   "outputs": [
    {
     "name": "stdout",
     "output_type": "stream",
     "text": [
      "Enter one cathetus: 0\n",
      "Enter another cathetus: 0\n",
      "valueError\n"
     ]
    }
   ],
   "source": [
    "inCathet1 = float(input(\"Enter one cathetus: \"))\n",
    "inCathet2 = float(input(\"Enter another cathetus: \"))\n",
    "\n",
    "def isErrInInput(num1, num2):\n",
    "    if (num1 > 0) & (num2 > 0):\n",
    "        return False\n",
    "    else:\n",
    "        return True\n",
    "\n",
    "def hypotenuse(cat1, cat2):\n",
    "    return (cat1 ** 2 + cat2 ** 2) ** 0.5\n",
    "\n",
    "if not isErrInInput(inCathet1, inCathet2):\n",
    "    print(\"Hypotenuse = \" + str(hypotenuse(inCathet1, inCathet2)))\n",
    "else:\n",
    "    print(\"valueError\")"
   ]
  }
 ],
 "metadata": {
  "kernelspec": {
   "display_name": "Python 3",
   "language": "python",
   "name": "python3"
  },
  "language_info": {
   "codemirror_mode": {
    "name": "ipython",
    "version": 3
   },
   "file_extension": ".py",
   "mimetype": "text/x-python",
   "name": "python",
   "nbconvert_exporter": "python",
   "pygments_lexer": "ipython3",
   "version": "3.6.3"
  }
 },
 "nbformat": 4,
 "nbformat_minor": 2
}
