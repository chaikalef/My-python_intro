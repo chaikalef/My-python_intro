{
 "cells": [
  {
   "cell_type": "code",
   "execution_count": 13,
   "metadata": {},
   "outputs": [
    {
     "name": "stdout",
     "output_type": "stream",
     "text": [
      "1\n",
      "English\n",
      "3\n",
      "English\n",
      "Japanese\n",
      "Russian\n"
     ]
    }
   ],
   "source": [
    "# Python 2 and 3 compatibility\n",
    "\n",
    "from __future__ import (absolute_import, division,\n",
    "                        print_function, unicode_literals)\n",
    "from builtins import *\n",
    "\n",
    "__author__ = \"Sergey Chaika\"\n",
    "__email__ = \"chaikalef@gmail.com\"\n",
    "__status__ = \"Prototype\"\n",
    "\n",
    "f = open('input.txt')\n",
    "\n",
    "# Считали из файла\n",
    "input = []\n",
    "for line in f:\n",
    "    input.append(line.strip())\n",
    "\n",
    "# Выделили количество n\n",
    "n = int((input.pop(0)))\n",
    "\n",
    "# Составляем двумерный массив массивов языков учеников\n",
    "arr = []\n",
    "for i in range(n):\n",
    "    # Количество языков Мi\n",
    "    Mi = int((input.pop(0)))\n",
    "    arr.append([])\n",
    "    \n",
    "    # Выделяем языки i-ого ученика\n",
    "    for j in range(Mi):\n",
    "        arr[i].append(input.pop(0))\n",
    "        \n",
    "    arr[i] = set(arr[i])\n",
    "\n",
    "# Нашли пересечение, объединение\n",
    "cross = set(arr[0].intersection(arr[1]))\n",
    "allLang = set(arr[0].union(arr[1]))\n",
    "\n",
    "for i in range(2, len(arr)):\n",
    "    cross = cross.intersection(arr[i])\n",
    "    allLang = allLang.union(arr[i])\n",
    "    \n",
    "# Создали списки\n",
    "cross = list(cross)\n",
    "allLang = list(allLang)\n",
    "\n",
    "# Вывод всего на экран\n",
    "print(len(cross))\n",
    "for i in range(len(cross)):\n",
    "    print(cross[i])\n",
    "\n",
    "print(len(allLang))\n",
    "for i in range(len(allLang)):\n",
    "    print(allLang[i])"
   ]
  }
 ],
 "metadata": {
  "kernelspec": {
   "display_name": "Python 3",
   "language": "python",
   "name": "python3"
  },
  "language_info": {
   "codemirror_mode": {
    "name": "ipython",
    "version": 3
   },
   "file_extension": ".py",
   "mimetype": "text/x-python",
   "name": "python",
   "nbconvert_exporter": "python",
   "pygments_lexer": "ipython3",
   "version": "3.6.3"
  }
 },
 "nbformat": 4,
 "nbformat_minor": 2
}
