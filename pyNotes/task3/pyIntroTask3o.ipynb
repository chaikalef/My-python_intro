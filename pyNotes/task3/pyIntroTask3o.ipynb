{
 "cells": [
  {
   "cell_type": "code",
   "execution_count": 1,
   "metadata": {},
   "outputs": [
    {
     "name": "stdout",
     "output_type": "stream",
     "text": [
      "0 0 0 0 0 0 1 0 "
     ]
    }
   ],
   "source": [
    "# Python 2 and 3 compatibility\n",
    "from __future__ import (absolute_import, division,\n",
    "                        print_function, unicode_literals)\n",
    "from builtins import *\n",
    "\n",
    "__author__ = \"Sergey Chaika\"\n",
    "__email__ = \"chaikalef@gmail.com\"\n",
    "__status__ = \"Prototype\"\n",
    "    \n",
    "f = open('input.txt')\n",
    "\n",
    "# Считали из файла\n",
    "input = f.readlines()[0].strip().split()\n",
    "\n",
    "mem = []\n",
    "\n",
    "for i in range(len(input)):\n",
    "    if (input[i] in mem):\n",
    "        print(mem.count(input[i]), end = ' ')\n",
    "        mem.append(input[i])\n",
    "    else:\n",
    "        print(0, end = ' ')\n",
    "        mem.append(input[i])"
   ]
  }
 ],
 "metadata": {
  "kernelspec": {
   "display_name": "Python 3",
   "language": "python",
   "name": "python3"
  },
  "language_info": {
   "codemirror_mode": {
    "name": "ipython",
    "version": 3
   },
   "file_extension": ".py",
   "mimetype": "text/x-python",
   "name": "python",
   "nbconvert_exporter": "python",
   "pygments_lexer": "ipython3",
   "version": "3.6.3"
  }
 },
 "nbformat": 4,
 "nbformat_minor": 2
}
