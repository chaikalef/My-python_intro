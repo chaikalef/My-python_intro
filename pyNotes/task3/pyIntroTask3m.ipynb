{
 "cells": [
  {
   "cell_type": "code",
   "execution_count": 1,
   "metadata": {},
   "outputs": [
    {
     "ename": "ValueError",
     "evalue": "too many values to unpack (expected 2)",
     "output_type": "error",
     "traceback": [
      "\u001b[1;31m---------------------------------------------------------------------------\u001b[0m",
      "\u001b[1;31mValueError\u001b[0m                                Traceback (most recent call last)",
      "\u001b[1;32m<ipython-input-1-a6535bf7331c>\u001b[0m in \u001b[0;36m<module>\u001b[1;34m()\u001b[0m\n\u001b[0;32m     17\u001b[0m \u001b[1;33m\u001b[0m\u001b[0m\n\u001b[0;32m     18\u001b[0m \u001b[1;31m# Выделили количество n и m\u001b[0m\u001b[1;33m\u001b[0m\u001b[1;33m\u001b[0m\u001b[0m\n\u001b[1;32m---> 19\u001b[1;33m \u001b[0mn\u001b[0m\u001b[1;33m,\u001b[0m \u001b[0mm\u001b[0m \u001b[1;33m=\u001b[0m \u001b[1;33m(\u001b[0m\u001b[0minput\u001b[0m\u001b[1;33m.\u001b[0m\u001b[0mpop\u001b[0m\u001b[1;33m(\u001b[0m\u001b[1;36m0\u001b[0m\u001b[1;33m)\u001b[0m\u001b[1;33m)\u001b[0m\u001b[1;33m.\u001b[0m\u001b[0msplit\u001b[0m\u001b[1;33m(\u001b[0m\u001b[1;33m)\u001b[0m\u001b[1;33m\u001b[0m\u001b[0m\n\u001b[0m\u001b[0;32m     20\u001b[0m \u001b[0mn\u001b[0m\u001b[1;33m,\u001b[0m \u001b[0mm\u001b[0m \u001b[1;33m=\u001b[0m \u001b[0mint\u001b[0m\u001b[1;33m(\u001b[0m\u001b[0mn\u001b[0m\u001b[1;33m)\u001b[0m\u001b[1;33m,\u001b[0m \u001b[0mint\u001b[0m\u001b[1;33m(\u001b[0m\u001b[0mm\u001b[0m\u001b[1;33m)\u001b[0m\u001b[1;33m\u001b[0m\u001b[0m\n\u001b[0;32m     21\u001b[0m \u001b[1;33m\u001b[0m\u001b[0m\n",
      "\u001b[1;31mValueError\u001b[0m: too many values to unpack (expected 2)"
     ]
    }
   ],
   "source": [
    "# Python 2 and 3 compatibility\n",
    "\n",
    "from __future__ import (absolute_import, division,\n",
    "                        print_function, unicode_literals)\n",
    "from builtins import *\n",
    "\n",
    "__author__ = \"Sergey Chaika\"\n",
    "__email__ = \"chaikalef@gmail.com\"\n",
    "__status__ = \"Prototype\"\n",
    "\n",
    "f = open('input.txt')\n",
    "\n",
    "# Считали из файла\n",
    "input = []\n",
    "for line in f:\n",
    "    input.append(line.strip())\n",
    "\n",
    "# Выделили количество n и m\n",
    "n, m = (input.pop(0)).split()\n",
    "n, m = int(n), int(m)\n",
    "\n",
    "# Составили интовское множество шаров одного человека\n",
    "a = set()\n",
    "for i in range(n):\n",
    "    a.add(int(input.pop(0)))\n",
    "    \n",
    "# Составили интовское множество шаров другого человека\n",
    "b = set()\n",
    "for i in range(m):\n",
    "    b.add(int(input.pop(0)))\n",
    "\n",
    "# Нашли пересечение, разности\n",
    "# создали список\n",
    "# отсортировали список\n",
    "cross = sorted(a.intersection(b))\n",
    "a = sorted(a.difference(cross))\n",
    "b = sorted(b.difference(cross))\n",
    "\n",
    "# Вывод всего на экран\n",
    "print(len(cross))\n",
    "print(*cross)\n",
    "print(len(a))\n",
    "print(*a)   \n",
    "print(len(b))\n",
    "print(*b)"
   ]
  }
 ],
 "metadata": {
  "kernelspec": {
   "display_name": "Python 3",
   "language": "python",
   "name": "python3"
  },
  "language_info": {
   "codemirror_mode": {
    "name": "ipython",
    "version": 3
   },
   "file_extension": ".py",
   "mimetype": "text/x-python",
   "name": "python",
   "nbconvert_exporter": "python",
   "pygments_lexer": "ipython3",
   "version": "3.6.3"
  }
 },
 "nbformat": 4,
 "nbformat_minor": 2
}
