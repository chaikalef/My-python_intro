{
 "cells": [
  {
   "cell_type": "code",
   "execution_count": 7,
   "metadata": {},
   "outputs": [
    {
     "name": "stdout",
     "output_type": "stream",
     "text": [
      "19\n"
     ]
    }
   ],
   "source": [
    "# Python 2 and 3 compatibility\n",
    "from __future__ import (absolute_import, division,\n",
    "                        print_function, unicode_literals)\n",
    "from builtins import *\n",
    "\n",
    "__author__ = \"Sergey Chaika\"\n",
    "__email__ = \"chaikalef@gmail.com\"\n",
    "__status__ = \"Prototype\"\n",
    "\n",
    "f = open('input.txt')\n",
    "s = set()\n",
    "\n",
    "for line in f:\n",
    "    line = line.strip().split(\" \")\n",
    "    \n",
    "    for i in range(len(line)):\n",
    "        s.add(line[i])\n",
    "        \n",
    "print(len(s))"
   ]
  }
 ],
 "metadata": {
  "kernelspec": {
   "display_name": "Python 3",
   "language": "python",
   "name": "python3"
  },
  "language_info": {
   "codemirror_mode": {
    "name": "ipython",
    "version": 3
   },
   "file_extension": ".py",
   "mimetype": "text/x-python",
   "name": "python",
   "nbconvert_exporter": "python",
   "pygments_lexer": "ipython3",
   "version": "3.6.3"
  }
 },
 "nbformat": 4,
 "nbformat_minor": 2
}
