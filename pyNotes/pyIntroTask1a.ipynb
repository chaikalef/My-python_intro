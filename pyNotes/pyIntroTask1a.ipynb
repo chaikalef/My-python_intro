{
 "cells": [
  {
   "cell_type": "code",
   "execution_count": 3,
   "metadata": {},
   "outputs": [
    {
     "name": "stdout",
     "output_type": "stream",
     "text": [
      "Enter base: 10\n",
      "Enter power: 12\n",
      "(10.0) ^ (12.0) = 1000000000000.0\n"
     ]
    }
   ],
   "source": [
    "# 3^2 — three to the second power\n",
    "\n",
    "base = float(input(\"Enter base: \"))\n",
    "power = float(input(\"Enter power: \"))\n",
    "\n",
    "print(\"(\" + str(base) + \") ^ (\" + str(power) + \") = \" + str(base ** power))"
   ]
  }
 ],
 "metadata": {
  "kernelspec": {
   "display_name": "Python 3",
   "language": "python",
   "name": "python3"
  },
  "language_info": {
   "codemirror_mode": {
    "name": "ipython",
    "version": 3
   },
   "file_extension": ".py",
   "mimetype": "text/x-python",
   "name": "python",
   "nbconvert_exporter": "python",
   "pygments_lexer": "ipython3",
   "version": "3.6.3"
  }
 },
 "nbformat": 4,
 "nbformat_minor": 2
}
