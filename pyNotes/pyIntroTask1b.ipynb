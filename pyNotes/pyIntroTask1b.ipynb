{
 "cells": [
  {
   "cell_type": "code",
   "execution_count": 11,
   "metadata": {},
   "outputs": [
    {
     "name": "stdout",
     "output_type": "stream",
     "text": [
      "Enter number: 4\n",
      "4! = 24\n"
     ]
    }
   ],
   "source": [
    "inNum = int(input(\"Enter number: \"))\n",
    "\n",
    "def factorial(num):\n",
    "    res = 1\n",
    "    \n",
    "    if num >= 2:\n",
    "        for counter in range(2, num + 1):\n",
    "            res *= counter\n",
    "    elif num < 0:\n",
    "        res = 'ValueError'\n",
    "    \n",
    "    return res\n",
    "\n",
    "print(str(inNum) + \"! = \" + str(factorial(inNum)))"
   ]
  }
 ],
 "metadata": {
  "kernelspec": {
   "display_name": "Python 3",
   "language": "python",
   "name": "python3"
  },
  "language_info": {
   "codemirror_mode": {
    "name": "ipython",
    "version": 3
   },
   "file_extension": ".py",
   "mimetype": "text/x-python",
   "name": "python",
   "nbconvert_exporter": "python",
   "pygments_lexer": "ipython3",
   "version": "3.6.3"
  }
 },
 "nbformat": 4,
 "nbformat_minor": 2
}
